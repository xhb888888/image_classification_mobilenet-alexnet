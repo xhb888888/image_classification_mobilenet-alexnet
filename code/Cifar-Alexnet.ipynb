{
 "cells": [
  {
   "cell_type": "code",
   "execution_count": 1,
   "metadata": {
    "ExecuteTime": {
     "end_time": "2019-05-05T20:19:23.381452Z",
     "start_time": "2019-05-05T20:19:22.875162Z"
    }
   },
   "outputs": [],
   "source": [
    "%matplotlib inline\n",
    "import matplotlib.pyplot as plt\n",
    "import numpy as np\n",
    "import torch\n",
    "import torchvision\n",
    "import torchvision.transforms as transforms\n",
    "import torch.nn as nn\n",
    "import torch.nn.functional as F\n",
    "import torch.optim as optim"
   ]
  },
  {
   "cell_type": "code",
   "execution_count": 2,
   "metadata": {},
   "outputs": [],
   "source": [
    "%%capture\n",
    "!pip install torchvision"
   ]
  },
  {
   "cell_type": "markdown",
   "metadata": {
    "ExecuteTime": {
     "end_time": "2019-05-05T19:49:54.053090Z",
     "start_time": "2019-05-05T19:49:43.413Z"
    }
   },
   "source": [
    "#### Prepare for Dataset"
   ]
  },
  {
   "cell_type": "code",
   "execution_count": 3,
   "metadata": {
    "ExecuteTime": {
     "end_time": "2019-05-05T20:19:24.679448Z",
     "start_time": "2019-05-05T20:19:23.383032Z"
    }
   },
   "outputs": [
    {
     "name": "stdout",
     "output_type": "stream",
     "text": [
      "Files already downloaded and verified\n",
      "Files already downloaded and verified\n"
     ]
    }
   ],
   "source": [
    "transform = transforms.Compose(\n",
    "    [transforms.Resize((227, 227)),\n",
    "     transforms.ToTensor(),\n",
    "     transforms.Normalize((0.5, 0.5, 0.5), (0.5, 0.5, 0.5))])\n",
    "\n",
    "trainset = torchvision.datasets.CIFAR10(root='./data', train=True,\n",
    "                                        download=True, transform=transform)\n",
    "trainloader = torch.utils.data.DataLoader(trainset, batch_size=4,\n",
    "                                          shuffle=True, num_workers=2)\n",
    "\n",
    "testset = torchvision.datasets.CIFAR10(root='./data', train=False,\n",
    "                                       download=True, transform=transform)\n",
    "testloader = torch.utils.data.DataLoader(testset, batch_size=4,\n",
    "                                         shuffle=False, num_workers=2)\n",
    "\n",
    "classes = ('plane', 'car', 'bird', 'cat',\n",
    "           'deer', 'dog', 'frog', 'horse', 'ship', 'truck')"
   ]
  },
  {
   "cell_type": "markdown",
   "metadata": {},
   "source": [
    "#### Choose a Device"
   ]
  },
  {
   "cell_type": "code",
   "execution_count": 4,
   "metadata": {
    "ExecuteTime": {
     "end_time": "2019-05-05T20:19:26.653269Z",
     "start_time": "2019-05-05T20:19:24.834664Z"
    }
   },
   "outputs": [
    {
     "name": "stdout",
     "output_type": "stream",
     "text": [
      "cuda:0\n"
     ]
    }
   ],
   "source": [
    "# If there are GPUs, choose the first one for computing. Otherwise use CPU.\n",
    "device = torch.device(\"cuda:0\" if torch.cuda.is_available() else \"cpu\")\n",
    "print(device)  \n",
    "# If 'cuda:0' is printed, it means GPU is available."
   ]
  },
  {
   "cell_type": "markdown",
   "metadata": {},
   "source": [
    "#### Network Definition"
   ]
  },
  {
   "cell_type": "code",
   "execution_count": 9,
   "metadata": {},
   "outputs": [
    {
     "data": {
      "text/plain": [
       "Net(\n",
       "  (features): Sequential(\n",
       "    (0): Conv2d(3, 64, kernel_size=(11, 11), stride=(4, 4), padding=(2, 2))\n",
       "    (1): ReLU(inplace=True)\n",
       "    (2): MaxPool2d(kernel_size=3, stride=2, padding=0, dilation=1, ceil_mode=False)\n",
       "    (3): Conv2d(64, 192, kernel_size=(5, 5), stride=(1, 1), padding=(2, 2))\n",
       "    (4): ReLU(inplace=True)\n",
       "    (5): MaxPool2d(kernel_size=3, stride=2, padding=0, dilation=1, ceil_mode=False)\n",
       "    (6): Conv2d(192, 384, kernel_size=(3, 3), stride=(1, 1), padding=(1, 1))\n",
       "    (7): ReLU(inplace=True)\n",
       "    (8): Conv2d(384, 256, kernel_size=(3, 3), stride=(1, 1), padding=(1, 1))\n",
       "    (9): ReLU(inplace=True)\n",
       "    (10): Conv2d(256, 256, kernel_size=(3, 3), stride=(1, 1), padding=(1, 1))\n",
       "    (11): ReLU(inplace=True)\n",
       "    (12): MaxPool2d(kernel_size=3, stride=2, padding=0, dilation=1, ceil_mode=False)\n",
       "  )\n",
       "  (avgpool): AdaptiveAvgPool2d(output_size=(6, 6))\n",
       "  (classifier): Sequential(\n",
       "    (0): Dropout(p=0.5, inplace=False)\n",
       "    (1): Linear(in_features=9216, out_features=4096, bias=True)\n",
       "    (2): ReLU(inplace=True)\n",
       "    (3): Dropout(p=0.5, inplace=False)\n",
       "    (4): Linear(in_features=4096, out_features=4096, bias=True)\n",
       "    (5): ReLU(inplace=True)\n",
       "    (6): Linear(in_features=4096, out_features=10, bias=True)\n",
       "  )\n",
       ")"
      ]
     },
     "execution_count": 9,
     "metadata": {},
     "output_type": "execute_result"
    }
   ],
   "source": [
    "import torch.nn as nn\n",
    "\n",
    "class Net(nn.Module):\n",
    "    def __init__(self, num_classes=10):\n",
    "        super(Net, self).__init__()\n",
    "\n",
    "        self.features = nn.Sequential(\n",
    "            nn.Conv2d(3, 64, kernel_size=11, stride=4, padding=2),\n",
    "            nn.ReLU(inplace=True),\n",
    "            nn.MaxPool2d(kernel_size=3, stride=2),\n",
    "            nn.Conv2d(64, 192, kernel_size=5, padding=2),\n",
    "            nn.ReLU(inplace=True),\n",
    "            nn.MaxPool2d(kernel_size=3, stride=2),\n",
    "            nn.Conv2d(192, 384, kernel_size=3, padding=1),\n",
    "            nn.ReLU(inplace=True),\n",
    "            nn.Conv2d(384, 256, kernel_size=3, padding=1),\n",
    "            nn.ReLU(inplace=True),\n",
    "            nn.Conv2d(256, 256, kernel_size=3, padding=1),\n",
    "            nn.ReLU(inplace=True),\n",
    "            nn.MaxPool2d(kernel_size=3, stride=2),\n",
    "        )\n",
    "\n",
    "        self.avgpool = nn.AdaptiveAvgPool2d((6, 6))\n",
    "\n",
    "        self.classifier = nn.Sequential(\n",
    "            nn.Dropout(),\n",
    "            nn.Linear(256 * 6 * 6, 4096),\n",
    "            nn.ReLU(inplace=True),\n",
    "            nn.Dropout(),\n",
    "            nn.Linear(4096, 4096),\n",
    "            nn.ReLU(inplace=True),\n",
    "            nn.Linear(4096, num_classes),\n",
    "        )\n",
    "\n",
    "    def forward(self, x):\n",
    "        x = self.features(x)\n",
    "        x = self.avgpool(x)\n",
    "        x = x.view(x.size(0), 256 * 6 * 6)\n",
    "        x = self.classifier(x)\n",
    "        return x\n",
    "\n",
    "net = Net()     \n",
    "net.to(device) "
   ]
  },
  {
   "cell_type": "code",
   "execution_count": 7,
   "metadata": {},
   "outputs": [],
   "source": [
    "# We use cross-entropy as loss function.\n",
    "loss_func = nn.CrossEntropyLoss()  \n",
    "# We use stochastic gradient descent (SGD) as optimizer.\n",
    "opt = optim.Adam(net.parameters(), lr=0.001, momentum=0.9) "
   ]
  },
  {
   "cell_type": "code",
   "execution_count": 8,
   "metadata": {},
   "outputs": [
    {
     "name": "stderr",
     "output_type": "stream",
     "text": [
      "/opt/conda/lib/python3.9/site-packages/torch/nn/functional.py:718: UserWarning: Named tensors and all their associated APIs are an experimental feature and subject to change. Please do not use them for anything important until they are released as stable. (Triggered internally at  /pytorch/c10/core/TensorImpl.h:1156.)\n",
      "  return torch.max_pool2d(input, kernel_size, stride, padding, dilation, ceil_mode)\n"
     ]
    },
    {
     "name": "stdout",
     "output_type": "stream",
     "text": [
      "[epoch: 0, i:    99] avg mini-batch loss: 2.316\n",
      "[epoch: 0, i:   199] avg mini-batch loss: 2.307\n",
      "[epoch: 0, i:   299] avg mini-batch loss: 2.304\n",
      "[epoch: 0, i:   399] avg mini-batch loss: 2.303\n",
      "[epoch: 0, i:   499] avg mini-batch loss: 2.307\n",
      "[epoch: 0, i:   599] avg mini-batch loss: 2.300\n",
      "[epoch: 0, i:   699] avg mini-batch loss: 2.307\n",
      "[epoch: 0, i:   799] avg mini-batch loss: 2.307\n",
      "[epoch: 0, i:   899] avg mini-batch loss: 2.302\n",
      "[epoch: 0, i:   999] avg mini-batch loss: 2.303\n",
      "[epoch: 0, i:  1099] avg mini-batch loss: 2.304\n",
      "[epoch: 0, i:  1199] avg mini-batch loss: 2.304\n",
      "[epoch: 0, i:  1299] avg mini-batch loss: 2.305\n",
      "[epoch: 0, i:  1399] avg mini-batch loss: 2.303\n",
      "[epoch: 0, i:  1499] avg mini-batch loss: 2.303\n",
      "[epoch: 0, i:  1599] avg mini-batch loss: 2.303\n",
      "[epoch: 0, i:  1699] avg mini-batch loss: 2.302\n",
      "[epoch: 0, i:  1799] avg mini-batch loss: 2.304\n",
      "[epoch: 0, i:  1899] avg mini-batch loss: 2.305\n",
      "[epoch: 0, i:  1999] avg mini-batch loss: 2.302\n",
      "[epoch: 0, i:  2099] avg mini-batch loss: 2.302\n",
      "[epoch: 0, i:  2199] avg mini-batch loss: 2.303\n",
      "[epoch: 0, i:  2299] avg mini-batch loss: 2.302\n",
      "[epoch: 0, i:  2399] avg mini-batch loss: 2.304\n",
      "[epoch: 0, i:  2499] avg mini-batch loss: 2.302\n",
      "[epoch: 0, i:  2599] avg mini-batch loss: 2.303\n",
      "[epoch: 0, i:  2699] avg mini-batch loss: 2.305\n",
      "[epoch: 0, i:  2799] avg mini-batch loss: 2.300\n",
      "[epoch: 0, i:  2899] avg mini-batch loss: 2.304\n",
      "[epoch: 0, i:  2999] avg mini-batch loss: 2.305\n",
      "[epoch: 0, i:  3099] avg mini-batch loss: 2.304\n",
      "[epoch: 0, i:  3199] avg mini-batch loss: 2.303\n",
      "[epoch: 0, i:  3299] avg mini-batch loss: 2.302\n",
      "[epoch: 0, i:  3399] avg mini-batch loss: 2.302\n",
      "[epoch: 0, i:  3499] avg mini-batch loss: 2.304\n",
      "[epoch: 0, i:  3599] avg mini-batch loss: 2.304\n",
      "[epoch: 0, i:  3699] avg mini-batch loss: 2.303\n",
      "[epoch: 0, i:  3799] avg mini-batch loss: 2.303\n",
      "[epoch: 0, i:  3899] avg mini-batch loss: 2.302\n",
      "[epoch: 0, i:  3999] avg mini-batch loss: 2.301\n",
      "[epoch: 0, i:  4099] avg mini-batch loss: 2.305\n",
      "[epoch: 0, i:  4199] avg mini-batch loss: 2.304\n",
      "[epoch: 0, i:  4299] avg mini-batch loss: 2.304\n",
      "[epoch: 0, i:  4399] avg mini-batch loss: 2.302\n",
      "[epoch: 0, i:  4499] avg mini-batch loss: 2.302\n",
      "[epoch: 0, i:  4599] avg mini-batch loss: 2.304\n",
      "[epoch: 0, i:  4699] avg mini-batch loss: 2.301\n",
      "[epoch: 0, i:  4799] avg mini-batch loss: 2.301\n",
      "[epoch: 0, i:  4899] avg mini-batch loss: 2.304\n",
      "[epoch: 0, i:  4999] avg mini-batch loss: 2.306\n",
      "[epoch: 0, i:  5099] avg mini-batch loss: 2.302\n",
      "[epoch: 0, i:  5199] avg mini-batch loss: 2.304\n",
      "[epoch: 0, i:  5299] avg mini-batch loss: 2.303\n",
      "[epoch: 0, i:  5399] avg mini-batch loss: 2.305\n",
      "[epoch: 0, i:  5499] avg mini-batch loss: 2.302\n",
      "[epoch: 0, i:  5599] avg mini-batch loss: 2.303\n",
      "[epoch: 0, i:  5699] avg mini-batch loss: 2.303\n",
      "[epoch: 0, i:  5799] avg mini-batch loss: 2.303\n",
      "[epoch: 0, i:  5899] avg mini-batch loss: 2.305\n",
      "[epoch: 0, i:  5999] avg mini-batch loss: 2.304\n",
      "[epoch: 0, i:  6099] avg mini-batch loss: 2.304\n",
      "[epoch: 0, i:  6199] avg mini-batch loss: 2.302\n",
      "[epoch: 0, i:  6299] avg mini-batch loss: 2.303\n",
      "[epoch: 0, i:  6399] avg mini-batch loss: 2.305\n",
      "[epoch: 0, i:  6499] avg mini-batch loss: 2.303\n",
      "[epoch: 0, i:  6599] avg mini-batch loss: 2.303\n",
      "[epoch: 0, i:  6699] avg mini-batch loss: 2.302\n",
      "[epoch: 0, i:  6799] avg mini-batch loss: 2.303\n",
      "[epoch: 0, i:  6899] avg mini-batch loss: 2.303\n",
      "[epoch: 0, i:  6999] avg mini-batch loss: 2.302\n",
      "[epoch: 0, i:  7099] avg mini-batch loss: 2.302\n",
      "[epoch: 0, i:  7199] avg mini-batch loss: 2.303\n",
      "[epoch: 0, i:  7299] avg mini-batch loss: 2.304\n",
      "[epoch: 0, i:  7399] avg mini-batch loss: 2.305\n",
      "[epoch: 0, i:  7499] avg mini-batch loss: 2.304\n",
      "[epoch: 0, i:  7599] avg mini-batch loss: 2.303\n",
      "[epoch: 0, i:  7699] avg mini-batch loss: 2.303\n",
      "[epoch: 0, i:  7799] avg mini-batch loss: 2.304\n",
      "[epoch: 0, i:  7899] avg mini-batch loss: 2.305\n",
      "[epoch: 0, i:  7999] avg mini-batch loss: 2.302\n",
      "[epoch: 0, i:  8099] avg mini-batch loss: 2.301\n",
      "[epoch: 0, i:  8199] avg mini-batch loss: 2.304\n",
      "[epoch: 0, i:  8299] avg mini-batch loss: 2.301\n",
      "[epoch: 0, i:  8399] avg mini-batch loss: 2.301\n",
      "[epoch: 0, i:  8499] avg mini-batch loss: 2.303\n",
      "[epoch: 0, i:  8599] avg mini-batch loss: 2.304\n",
      "[epoch: 0, i:  8699] avg mini-batch loss: 2.303\n",
      "[epoch: 0, i:  8799] avg mini-batch loss: 2.305\n",
      "[epoch: 0, i:  8899] avg mini-batch loss: 2.304\n",
      "[epoch: 0, i:  8999] avg mini-batch loss: 2.303\n",
      "[epoch: 0, i:  9099] avg mini-batch loss: 2.304\n",
      "[epoch: 0, i:  9199] avg mini-batch loss: 2.303\n",
      "[epoch: 0, i:  9299] avg mini-batch loss: 2.303\n",
      "[epoch: 0, i:  9399] avg mini-batch loss: 2.302\n",
      "[epoch: 0, i:  9499] avg mini-batch loss: 2.304\n",
      "[epoch: 0, i:  9599] avg mini-batch loss: 2.302\n",
      "[epoch: 0, i:  9699] avg mini-batch loss: 2.303\n",
      "[epoch: 0, i:  9799] avg mini-batch loss: 2.304\n",
      "[epoch: 0, i:  9899] avg mini-batch loss: 2.304\n",
      "[epoch: 0, i:  9999] avg mini-batch loss: 2.300\n",
      "[epoch: 0, i: 10099] avg mini-batch loss: 2.303\n",
      "[epoch: 0, i: 10199] avg mini-batch loss: 2.303\n",
      "[epoch: 0, i: 10299] avg mini-batch loss: 2.304\n",
      "[epoch: 0, i: 10399] avg mini-batch loss: 2.305\n",
      "[epoch: 0, i: 10499] avg mini-batch loss: 2.302\n",
      "[epoch: 0, i: 10599] avg mini-batch loss: 2.304\n",
      "[epoch: 0, i: 10699] avg mini-batch loss: 2.303\n",
      "[epoch: 0, i: 10799] avg mini-batch loss: 2.303\n",
      "[epoch: 0, i: 10899] avg mini-batch loss: 2.303\n",
      "[epoch: 0, i: 10999] avg mini-batch loss: 2.304\n",
      "[epoch: 0, i: 11099] avg mini-batch loss: 2.303\n",
      "[epoch: 0, i: 11199] avg mini-batch loss: 2.304\n",
      "[epoch: 0, i: 11299] avg mini-batch loss: 2.304\n",
      "[epoch: 0, i: 11399] avg mini-batch loss: 2.303\n",
      "[epoch: 0, i: 11499] avg mini-batch loss: 2.302\n",
      "[epoch: 0, i: 11599] avg mini-batch loss: 2.302\n",
      "[epoch: 0, i: 11699] avg mini-batch loss: 2.304\n",
      "[epoch: 0, i: 11799] avg mini-batch loss: 2.303\n",
      "[epoch: 0, i: 11899] avg mini-batch loss: 2.303\n",
      "[epoch: 0, i: 11999] avg mini-batch loss: 2.303\n",
      "[epoch: 0, i: 12099] avg mini-batch loss: 2.303\n",
      "[epoch: 0, i: 12199] avg mini-batch loss: 2.304\n",
      "[epoch: 0, i: 12299] avg mini-batch loss: 2.303\n",
      "[epoch: 0, i: 12399] avg mini-batch loss: 2.302\n",
      "[epoch: 0, i: 12499] avg mini-batch loss: 2.304\n",
      "[epoch: 1, i:    99] avg mini-batch loss: 2.304\n",
      "[epoch: 1, i:   199] avg mini-batch loss: 2.304\n",
      "[epoch: 1, i:   299] avg mini-batch loss: 2.302\n",
      "[epoch: 1, i:   399] avg mini-batch loss: 2.303\n",
      "[epoch: 1, i:   499] avg mini-batch loss: 2.303\n",
      "[epoch: 1, i:   599] avg mini-batch loss: 2.302\n",
      "[epoch: 1, i:   699] avg mini-batch loss: 2.304\n",
      "[epoch: 1, i:   799] avg mini-batch loss: 2.304\n",
      "[epoch: 1, i:   899] avg mini-batch loss: 2.302\n",
      "[epoch: 1, i:   999] avg mini-batch loss: 2.303\n",
      "[epoch: 1, i:  1099] avg mini-batch loss: 2.304\n",
      "[epoch: 1, i:  1199] avg mini-batch loss: 2.302\n",
      "[epoch: 1, i:  1299] avg mini-batch loss: 2.302\n",
      "[epoch: 1, i:  1399] avg mini-batch loss: 2.303\n",
      "[epoch: 1, i:  1499] avg mini-batch loss: 2.304\n",
      "[epoch: 1, i:  1599] avg mini-batch loss: 2.302\n",
      "[epoch: 1, i:  1699] avg mini-batch loss: 2.303\n",
      "[epoch: 1, i:  1799] avg mini-batch loss: 2.304\n",
      "[epoch: 1, i:  1899] avg mini-batch loss: 2.301\n",
      "[epoch: 1, i:  1999] avg mini-batch loss: 2.303\n",
      "[epoch: 1, i:  2099] avg mini-batch loss: 2.304\n",
      "[epoch: 1, i:  2199] avg mini-batch loss: 2.304\n",
      "[epoch: 1, i:  2299] avg mini-batch loss: 2.302\n",
      "[epoch: 1, i:  2399] avg mini-batch loss: 2.304\n",
      "[epoch: 1, i:  2499] avg mini-batch loss: 2.302\n",
      "[epoch: 1, i:  2599] avg mini-batch loss: 2.305\n",
      "[epoch: 1, i:  2699] avg mini-batch loss: 2.305\n",
      "[epoch: 1, i:  2799] avg mini-batch loss: 2.302\n",
      "[epoch: 1, i:  2899] avg mini-batch loss: 2.302\n",
      "[epoch: 1, i:  2999] avg mini-batch loss: 2.303\n",
      "[epoch: 1, i:  3099] avg mini-batch loss: 2.304\n",
      "[epoch: 1, i:  3199] avg mini-batch loss: 2.303\n",
      "[epoch: 1, i:  3299] avg mini-batch loss: 2.303\n",
      "[epoch: 1, i:  3399] avg mini-batch loss: 2.304\n",
      "[epoch: 1, i:  3499] avg mini-batch loss: 2.302\n",
      "[epoch: 1, i:  3599] avg mini-batch loss: 2.303\n",
      "[epoch: 1, i:  3699] avg mini-batch loss: 2.304\n",
      "[epoch: 1, i:  3799] avg mini-batch loss: 2.303\n",
      "[epoch: 1, i:  3899] avg mini-batch loss: 2.302\n",
      "[epoch: 1, i:  3999] avg mini-batch loss: 2.305\n",
      "[epoch: 1, i:  4099] avg mini-batch loss: 2.303\n",
      "[epoch: 1, i:  4199] avg mini-batch loss: 2.303\n",
      "[epoch: 1, i:  4299] avg mini-batch loss: 2.300\n",
      "[epoch: 1, i:  4399] avg mini-batch loss: 2.302\n",
      "[epoch: 1, i:  4499] avg mini-batch loss: 2.304\n",
      "[epoch: 1, i:  4599] avg mini-batch loss: 2.301\n"
     ]
    },
    {
     "name": "stdout",
     "output_type": "stream",
     "text": [
      "[epoch: 1, i:  4699] avg mini-batch loss: 2.304\n",
      "[epoch: 1, i:  4799] avg mini-batch loss: 2.303\n",
      "[epoch: 1, i:  4899] avg mini-batch loss: 2.303\n",
      "[epoch: 1, i:  4999] avg mini-batch loss: 2.302\n",
      "[epoch: 1, i:  5099] avg mini-batch loss: 2.303\n",
      "[epoch: 1, i:  5199] avg mini-batch loss: 2.303\n",
      "[epoch: 1, i:  5299] avg mini-batch loss: 2.306\n",
      "[epoch: 1, i:  5399] avg mini-batch loss: 2.302\n",
      "[epoch: 1, i:  5499] avg mini-batch loss: 2.303\n",
      "[epoch: 1, i:  5599] avg mini-batch loss: 2.305\n",
      "[epoch: 1, i:  5699] avg mini-batch loss: 2.302\n",
      "[epoch: 1, i:  5799] avg mini-batch loss: 2.303\n",
      "[epoch: 1, i:  5899] avg mini-batch loss: 2.302\n",
      "[epoch: 1, i:  5999] avg mini-batch loss: 2.304\n",
      "[epoch: 1, i:  6099] avg mini-batch loss: 2.303\n",
      "[epoch: 1, i:  6199] avg mini-batch loss: 2.304\n",
      "[epoch: 1, i:  6299] avg mini-batch loss: 2.302\n",
      "[epoch: 1, i:  6399] avg mini-batch loss: 2.303\n",
      "[epoch: 1, i:  6499] avg mini-batch loss: 2.304\n",
      "[epoch: 1, i:  6599] avg mini-batch loss: 2.304\n",
      "[epoch: 1, i:  6699] avg mini-batch loss: 2.301\n",
      "[epoch: 1, i:  6799] avg mini-batch loss: 2.301\n",
      "[epoch: 1, i:  6899] avg mini-batch loss: 2.303\n",
      "[epoch: 1, i:  6999] avg mini-batch loss: 2.304\n",
      "[epoch: 1, i:  7099] avg mini-batch loss: 2.303\n",
      "[epoch: 1, i:  7199] avg mini-batch loss: 2.304\n",
      "[epoch: 1, i:  7299] avg mini-batch loss: 2.304\n",
      "[epoch: 1, i:  7399] avg mini-batch loss: 2.304\n",
      "[epoch: 1, i:  7499] avg mini-batch loss: 2.305\n",
      "[epoch: 1, i:  7599] avg mini-batch loss: 2.302\n",
      "[epoch: 1, i:  7699] avg mini-batch loss: 2.303\n",
      "[epoch: 1, i:  7799] avg mini-batch loss: 2.302\n",
      "[epoch: 1, i:  7899] avg mini-batch loss: 2.304\n",
      "[epoch: 1, i:  7999] avg mini-batch loss: 2.301\n",
      "[epoch: 1, i:  8099] avg mini-batch loss: 2.304\n",
      "[epoch: 1, i:  8199] avg mini-batch loss: 2.303\n",
      "[epoch: 1, i:  8299] avg mini-batch loss: 2.302\n",
      "[epoch: 1, i:  8399] avg mini-batch loss: 2.304\n",
      "[epoch: 1, i:  8499] avg mini-batch loss: 2.303\n",
      "[epoch: 1, i:  8599] avg mini-batch loss: 2.304\n",
      "[epoch: 1, i:  8699] avg mini-batch loss: 2.303\n",
      "[epoch: 1, i:  8799] avg mini-batch loss: 2.303\n",
      "[epoch: 1, i:  8899] avg mini-batch loss: 2.305\n",
      "[epoch: 1, i:  8999] avg mini-batch loss: 2.302\n",
      "[epoch: 1, i:  9099] avg mini-batch loss: 2.302\n",
      "[epoch: 1, i:  9199] avg mini-batch loss: 2.303\n",
      "[epoch: 1, i:  9299] avg mini-batch loss: 2.302\n",
      "[epoch: 1, i:  9399] avg mini-batch loss: 2.301\n",
      "[epoch: 1, i:  9499] avg mini-batch loss: 2.304\n",
      "[epoch: 1, i:  9599] avg mini-batch loss: 2.302\n",
      "[epoch: 1, i:  9699] avg mini-batch loss: 2.303\n",
      "[epoch: 1, i:  9799] avg mini-batch loss: 2.301\n",
      "[epoch: 1, i:  9899] avg mini-batch loss: 2.303\n",
      "[epoch: 1, i:  9999] avg mini-batch loss: 2.306\n",
      "[epoch: 1, i: 10099] avg mini-batch loss: 2.302\n",
      "[epoch: 1, i: 10199] avg mini-batch loss: 2.304\n",
      "[epoch: 1, i: 10299] avg mini-batch loss: 2.304\n",
      "[epoch: 1, i: 10399] avg mini-batch loss: 2.305\n",
      "[epoch: 1, i: 10499] avg mini-batch loss: 2.302\n",
      "[epoch: 1, i: 10599] avg mini-batch loss: 2.305\n",
      "[epoch: 1, i: 10699] avg mini-batch loss: 2.304\n",
      "[epoch: 1, i: 10799] avg mini-batch loss: 2.303\n",
      "[epoch: 1, i: 10899] avg mini-batch loss: 2.304\n",
      "[epoch: 1, i: 10999] avg mini-batch loss: 2.301\n",
      "[epoch: 1, i: 11099] avg mini-batch loss: 2.302\n",
      "[epoch: 1, i: 11199] avg mini-batch loss: 2.304\n",
      "[epoch: 1, i: 11299] avg mini-batch loss: 2.303\n",
      "[epoch: 1, i: 11399] avg mini-batch loss: 2.303\n",
      "[epoch: 1, i: 11499] avg mini-batch loss: 2.301\n",
      "[epoch: 1, i: 11599] avg mini-batch loss: 2.305\n",
      "[epoch: 1, i: 11699] avg mini-batch loss: 2.303\n",
      "[epoch: 1, i: 11799] avg mini-batch loss: 2.303\n",
      "[epoch: 1, i: 11899] avg mini-batch loss: 2.302\n",
      "[epoch: 1, i: 11999] avg mini-batch loss: 2.303\n",
      "[epoch: 1, i: 12099] avg mini-batch loss: 2.303\n",
      "[epoch: 1, i: 12199] avg mini-batch loss: 2.303\n",
      "[epoch: 1, i: 12299] avg mini-batch loss: 2.302\n",
      "[epoch: 1, i: 12399] avg mini-batch loss: 2.304\n",
      "[epoch: 1, i: 12499] avg mini-batch loss: 2.304\n",
      "[epoch: 2, i:    99] avg mini-batch loss: 2.303\n",
      "[epoch: 2, i:   199] avg mini-batch loss: 2.303\n",
      "[epoch: 2, i:   299] avg mini-batch loss: 2.301\n",
      "[epoch: 2, i:   399] avg mini-batch loss: 2.304\n",
      "[epoch: 2, i:   499] avg mini-batch loss: 2.301\n",
      "[epoch: 2, i:   599] avg mini-batch loss: 2.303\n",
      "[epoch: 2, i:   699] avg mini-batch loss: 2.303\n",
      "[epoch: 2, i:   799] avg mini-batch loss: 2.304\n",
      "[epoch: 2, i:   899] avg mini-batch loss: 2.304\n",
      "[epoch: 2, i:   999] avg mini-batch loss: 2.305\n",
      "[epoch: 2, i:  1099] avg mini-batch loss: 2.304\n",
      "[epoch: 2, i:  1199] avg mini-batch loss: 2.303\n",
      "[epoch: 2, i:  1299] avg mini-batch loss: 2.302\n",
      "[epoch: 2, i:  1399] avg mini-batch loss: 2.302\n",
      "[epoch: 2, i:  1499] avg mini-batch loss: 2.304\n",
      "[epoch: 2, i:  1599] avg mini-batch loss: 2.302\n",
      "[epoch: 2, i:  1699] avg mini-batch loss: 2.302\n",
      "[epoch: 2, i:  1799] avg mini-batch loss: 2.302\n",
      "[epoch: 2, i:  1899] avg mini-batch loss: 2.304\n",
      "[epoch: 2, i:  1999] avg mini-batch loss: 2.302\n",
      "[epoch: 2, i:  2099] avg mini-batch loss: 2.304\n",
      "[epoch: 2, i:  2199] avg mini-batch loss: 2.302\n",
      "[epoch: 2, i:  2299] avg mini-batch loss: 2.302\n",
      "[epoch: 2, i:  2399] avg mini-batch loss: 2.303\n",
      "[epoch: 2, i:  2499] avg mini-batch loss: 2.303\n",
      "[epoch: 2, i:  2599] avg mini-batch loss: 2.302\n",
      "[epoch: 2, i:  2699] avg mini-batch loss: 2.304\n",
      "[epoch: 2, i:  2799] avg mini-batch loss: 2.300\n",
      "[epoch: 2, i:  2899] avg mini-batch loss: 2.302\n",
      "[epoch: 2, i:  2999] avg mini-batch loss: 2.304\n",
      "[epoch: 2, i:  3099] avg mini-batch loss: 2.302\n",
      "[epoch: 2, i:  3199] avg mini-batch loss: 2.302\n",
      "[epoch: 2, i:  3299] avg mini-batch loss: 2.305\n",
      "[epoch: 2, i:  3399] avg mini-batch loss: 2.304\n",
      "[epoch: 2, i:  3499] avg mini-batch loss: 2.305\n",
      "[epoch: 2, i:  3599] avg mini-batch loss: 2.304\n",
      "[epoch: 2, i:  3699] avg mini-batch loss: 2.303\n",
      "[epoch: 2, i:  3799] avg mini-batch loss: 2.303\n",
      "[epoch: 2, i:  3899] avg mini-batch loss: 2.303\n",
      "[epoch: 2, i:  3999] avg mini-batch loss: 2.304\n",
      "[epoch: 2, i:  4099] avg mini-batch loss: 2.303\n",
      "[epoch: 2, i:  4199] avg mini-batch loss: 2.303\n",
      "[epoch: 2, i:  4299] avg mini-batch loss: 2.304\n",
      "[epoch: 2, i:  4399] avg mini-batch loss: 2.302\n",
      "[epoch: 2, i:  4499] avg mini-batch loss: 2.304\n",
      "[epoch: 2, i:  4599] avg mini-batch loss: 2.304\n",
      "[epoch: 2, i:  4699] avg mini-batch loss: 2.301\n",
      "[epoch: 2, i:  4799] avg mini-batch loss: 2.304\n",
      "[epoch: 2, i:  4899] avg mini-batch loss: 2.304\n",
      "[epoch: 2, i:  4999] avg mini-batch loss: 2.303\n",
      "[epoch: 2, i:  5099] avg mini-batch loss: 2.304\n",
      "[epoch: 2, i:  5199] avg mini-batch loss: 2.302\n",
      "[epoch: 2, i:  5299] avg mini-batch loss: 2.303\n",
      "[epoch: 2, i:  5399] avg mini-batch loss: 2.303\n",
      "[epoch: 2, i:  5499] avg mini-batch loss: 2.302\n",
      "[epoch: 2, i:  5599] avg mini-batch loss: 2.305\n",
      "[epoch: 2, i:  5699] avg mini-batch loss: 2.302\n",
      "[epoch: 2, i:  5799] avg mini-batch loss: 2.304\n",
      "[epoch: 2, i:  5899] avg mini-batch loss: 2.303\n",
      "[epoch: 2, i:  5999] avg mini-batch loss: 2.304\n",
      "[epoch: 2, i:  6099] avg mini-batch loss: 2.302\n",
      "[epoch: 2, i:  6199] avg mini-batch loss: 2.302\n",
      "[epoch: 2, i:  6299] avg mini-batch loss: 2.303\n",
      "[epoch: 2, i:  6399] avg mini-batch loss: 2.302\n",
      "[epoch: 2, i:  6499] avg mini-batch loss: 2.302\n",
      "[epoch: 2, i:  6599] avg mini-batch loss: 2.306\n",
      "[epoch: 2, i:  6699] avg mini-batch loss: 2.303\n",
      "[epoch: 2, i:  6799] avg mini-batch loss: 2.304\n",
      "[epoch: 2, i:  6899] avg mini-batch loss: 2.303\n",
      "[epoch: 2, i:  6999] avg mini-batch loss: 2.303\n",
      "[epoch: 2, i:  7099] avg mini-batch loss: 2.302\n",
      "[epoch: 2, i:  7199] avg mini-batch loss: 2.304\n",
      "[epoch: 2, i:  7299] avg mini-batch loss: 2.303\n",
      "[epoch: 2, i:  7399] avg mini-batch loss: 2.303\n",
      "[epoch: 2, i:  7499] avg mini-batch loss: 2.300\n",
      "[epoch: 2, i:  7599] avg mini-batch loss: 2.303\n",
      "[epoch: 2, i:  7699] avg mini-batch loss: 2.302\n",
      "[epoch: 2, i:  7799] avg mini-batch loss: 2.305\n",
      "[epoch: 2, i:  7899] avg mini-batch loss: 2.304\n",
      "[epoch: 2, i:  7999] avg mini-batch loss: 2.301\n",
      "[epoch: 2, i:  8099] avg mini-batch loss: 2.304\n",
      "[epoch: 2, i:  8199] avg mini-batch loss: 2.302\n",
      "[epoch: 2, i:  8299] avg mini-batch loss: 2.303\n",
      "[epoch: 2, i:  8399] avg mini-batch loss: 2.302\n",
      "[epoch: 2, i:  8499] avg mini-batch loss: 2.304\n",
      "[epoch: 2, i:  8599] avg mini-batch loss: 2.303\n",
      "[epoch: 2, i:  8699] avg mini-batch loss: 2.304\n",
      "[epoch: 2, i:  8799] avg mini-batch loss: 2.303\n",
      "[epoch: 2, i:  8899] avg mini-batch loss: 2.302\n",
      "[epoch: 2, i:  8999] avg mini-batch loss: 2.302\n",
      "[epoch: 2, i:  9099] avg mini-batch loss: 2.305\n",
      "[epoch: 2, i:  9199] avg mini-batch loss: 2.304\n"
     ]
    },
    {
     "name": "stdout",
     "output_type": "stream",
     "text": [
      "[epoch: 2, i:  9299] avg mini-batch loss: 2.304\n",
      "[epoch: 2, i:  9399] avg mini-batch loss: 2.301\n",
      "[epoch: 2, i:  9499] avg mini-batch loss: 2.304\n",
      "[epoch: 2, i:  9599] avg mini-batch loss: 2.303\n",
      "[epoch: 2, i:  9699] avg mini-batch loss: 2.303\n",
      "[epoch: 2, i:  9799] avg mini-batch loss: 2.303\n",
      "[epoch: 2, i:  9899] avg mini-batch loss: 2.302\n",
      "[epoch: 2, i:  9999] avg mini-batch loss: 2.303\n",
      "[epoch: 2, i: 10099] avg mini-batch loss: 2.302\n",
      "[epoch: 2, i: 10199] avg mini-batch loss: 2.305\n",
      "[epoch: 2, i: 10299] avg mini-batch loss: 2.304\n",
      "[epoch: 2, i: 10399] avg mini-batch loss: 2.303\n",
      "[epoch: 2, i: 10499] avg mini-batch loss: 2.303\n"
     ]
    },
    {
     "ename": "KeyboardInterrupt",
     "evalue": "",
     "output_type": "error",
     "traceback": [
      "\u001b[0;31m---------------------------------------------------------------------------\u001b[0m",
      "\u001b[0;31mKeyboardInterrupt\u001b[0m                         Traceback (most recent call last)",
      "\u001b[0;32m/tmp/ipykernel_1552/2125420646.py\u001b[0m in \u001b[0;36m<module>\u001b[0;34m\u001b[0m\n\u001b[1;32m     26\u001b[0m \u001b[0;34m\u001b[0m\u001b[0m\n\u001b[1;32m     27\u001b[0m         \u001b[0;31m# Print statistics.\u001b[0m\u001b[0;34m\u001b[0m\u001b[0;34m\u001b[0m\u001b[0;34m\u001b[0m\u001b[0m\n\u001b[0;32m---> 28\u001b[0;31m         \u001b[0mrunning_loss\u001b[0m \u001b[0;34m+=\u001b[0m \u001b[0mloss\u001b[0m\u001b[0;34m.\u001b[0m\u001b[0mitem\u001b[0m\u001b[0;34m(\u001b[0m\u001b[0;34m)\u001b[0m\u001b[0;34m\u001b[0m\u001b[0;34m\u001b[0m\u001b[0m\n\u001b[0m\u001b[1;32m     29\u001b[0m         \u001b[0;32mif\u001b[0m \u001b[0mi\u001b[0m \u001b[0;34m%\u001b[0m \u001b[0mprint_freq\u001b[0m \u001b[0;34m==\u001b[0m \u001b[0mprint_freq\u001b[0m \u001b[0;34m-\u001b[0m \u001b[0;36m1\u001b[0m\u001b[0;34m:\u001b[0m \u001b[0;31m# Print every several mini-batches.\u001b[0m\u001b[0;34m\u001b[0m\u001b[0;34m\u001b[0m\u001b[0m\n\u001b[1;32m     30\u001b[0m             \u001b[0mavg_loss\u001b[0m \u001b[0;34m=\u001b[0m \u001b[0mrunning_loss\u001b[0m \u001b[0;34m/\u001b[0m \u001b[0mprint_freq\u001b[0m\u001b[0;34m\u001b[0m\u001b[0;34m\u001b[0m\u001b[0m\n",
      "\u001b[0;31mKeyboardInterrupt\u001b[0m: "
     ]
    }
   ],
   "source": [
    "avg_losses = []   # Avg. losses.\n",
    "epochs = 10       # Total epochs.\n",
    "print_freq = 100  # Print frequency.\n",
    "\n",
    "for epoch in range(epochs):  # Loop over the dataset multiple times.\n",
    "    running_loss = 0.0       # Initialize running loss.\n",
    "    for i, data in enumerate(trainloader, 0):\n",
    "        # Get the inputs.\n",
    "        inputs, labels = data\n",
    "        \n",
    "        # Move the inputs to the specified device.\n",
    "        inputs, labels = inputs.to(device), labels.to(device)\n",
    "        \n",
    "        # Zero the parameter gradients.\n",
    "        opt.zero_grad()\n",
    "\n",
    "        # Forward step.\n",
    "        outputs = net(inputs)\n",
    "        loss = loss_func(outputs, labels)\n",
    "        \n",
    "        # Backward step.\n",
    "        loss.backward()\n",
    "        \n",
    "        # Optimization step (update the parameters).\n",
    "        opt.step()\n",
    "\n",
    "        # Print statistics.\n",
    "        running_loss += loss.item()\n",
    "        if i % print_freq == print_freq - 1: # Print every several mini-batches.\n",
    "            avg_loss = running_loss / print_freq\n",
    "            print('[epoch: {}, i: {:5d}] avg mini-batch loss: {:.3f}'.format(\n",
    "                epoch, i, avg_loss))\n",
    "            avg_losses.append(avg_loss)\n",
    "            running_loss = 0.0\n",
    "\n",
    "print('Finished Training.')"
   ]
  },
  {
   "cell_type": "code",
   "execution_count": 8,
   "metadata": {},
   "outputs": [
    {
     "data": {
      "image/png": "[encoded data removed]",
      "text/plain": [
       "<Figure size 432x288 with 1 Axes>"
      ]
     },
     "metadata": {
      "needs_background": "light"
     },
     "output_type": "display_data"
    }
   ],
   "source": [
    "plt.plot(avg_losses)\n",
    "plt.xlabel('mini-batch index / {}'.format(print_freq))\n",
    "plt.ylabel('avg. mini-batch loss')\n",
    "plt.show()"
   ]
  },
  {
   "cell_type": "code",
   "execution_count": 10,
   "metadata": {},
   "outputs": [],
   "source": [
    "def imshow(img):\n",
    "    img = img / 2 + 0.5     # Unnormalize.\n",
    "    npimg = img.numpy()\n",
    "    plt.imshow(np.transpose(npimg, (1, 2, 0)))\n",
    "    plt.show()"
   ]
  },
  {
   "cell_type": "code",
   "execution_count": 11,
   "metadata": {},
   "outputs": [
    {
     "data": {
      "image/png": "[encoded data removed]",
      "text/plain": [
       "<Figure size 432x288 with 1 Axes>"
      ]
     },
     "metadata": {
      "needs_background": "light"
     },
     "output_type": "display_data"
    },
    {
     "name": "stdout",
     "output_type": "stream",
     "text": [
      "GroundTruth:    cat  ship  ship plane\n",
      "Predicted:    cat  ship  ship plane\n"
     ]
    }
   ],
   "source": [
    "# Check several images.\n",
    "dataiter = iter(testloader)\n",
    "images, labels = next(dataiter)\n",
    "imshow(torchvision.utils.make_grid(images))\n",
    "print('GroundTruth: ', ' '.join('%5s' % classes[labels[j]] for j in range(4)))\n",
    "outputs = net(images.to(device))\n",
    "_, predicted = torch.max(outputs, 1)\n",
    "\n",
    "print('Predicted: ', ' '.join('%5s' % classes[predicted[j]]\n",
    "                              for j in range(4)))"
   ]
  },
  {
   "cell_type": "code",
   "execution_count": 12,
   "metadata": {},
   "outputs": [
    {
     "name": "stdout",
     "output_type": "stream",
     "text": [
      "Accuracy of the network on the 10000 test images: 78 %\n"
     ]
    }
   ],
   "source": [
    "# Get test accuracy.\n",
    "correct = 0\n",
    "total = 0\n",
    "with torch.no_grad():\n",
    "    for data in testloader:\n",
    "        images, labels = data\n",
    "        images, labels = images.to(device), labels.to(device)\n",
    "        outputs = net(images)\n",
    "        _, predicted = torch.max(outputs.data, 1)\n",
    "        total += labels.size(0)\n",
    "        correct += (predicted == labels).sum().item()\n",
    "\n",
    "print('Accuracy of the network on the 10000 test images: %d %%' % (\n",
    "    100 * correct / total))"
   ]
  },
  {
   "cell_type": "code",
   "execution_count": 13,
   "metadata": {},
   "outputs": [
    {
     "name": "stdout",
     "output_type": "stream",
     "text": [
      "Accuracy of plane : 77 %\n",
      "Accuracy of   car : 87 %\n",
      "Accuracy of  bird : 69 %\n",
      "Accuracy of   cat : 60 %\n",
      "Accuracy of  deer : 76 %\n",
      "Accuracy of   dog : 72 %\n",
      "Accuracy of  frog : 89 %\n",
      "Accuracy of horse : 76 %\n",
      "Accuracy of  ship : 90 %\n",
      "Accuracy of truck : 88 %\n"
     ]
    }
   ],
   "source": [
    "# Get test accuracy for each class.\n",
    "class_correct = list(0. for i in range(10))\n",
    "class_total = list(0. for i in range(10))\n",
    "with torch.no_grad():\n",
    "    for data in testloader:\n",
    "        images, labels = data\n",
    "        images, labels = images.to(device), labels.to(device)\n",
    "        outputs = net(images)\n",
    "        _, predicted = torch.max(outputs, 1)\n",
    "        c = (predicted == labels).squeeze()\n",
    "        for i in range(4):\n",
    "            label = labels[i]\n",
    "            class_correct[label] += c[i].item()\n",
    "            class_total[label] += 1\n",
    "\n",
    "for i in range(10):\n",
    "    print('Accuracy of %5s : %2d %%' % (\n",
    "        classes[i], 100 * class_correct[i] / class_total[i]))"
   ]
  },
  {
   "cell_type": "code",
   "execution_count": 20,
   "metadata": {},
   "outputs": [
    {
     "name": "stdout",
     "output_type": "stream",
     "text": [
      "Accuracy of the network on the enhanced misclassified images: 25 %\n"
     ]
    }
   ],
   "source": [
    "import torch.nn.functional as F\n",
    "from torchvision import transforms\n",
    "\n",
    "# Define a function to enhance the misclassified images\n",
    "def enhance_image(image):\n",
    "    # Enhance the image\n",
    "    enhanced_image = transforms.functional.adjust_brightness(image, brightness_factor=1.2)\n",
    "    enhanced_image = transforms.functional.adjust_contrast(enhanced_image, contrast_factor=1.5)\n",
    "    enhanced_image = transforms.functional.adjust_sharpness(enhanced_image, sharpness_factor=1.5)\n",
    "    return enhanced_image\n",
    "\n",
    "misclassified_images = []\n",
    "\n",
    "with torch.no_grad():\n",
    "    for data in testloader:\n",
    "        images, labels = data\n",
    "        images, labels = images.to(device), labels.to(device)\n",
    "        outputs = net(images)\n",
    "        _, predicted = torch.max(outputs.data, 1)\n",
    "        for i in range(len(labels)):\n",
    "            if predicted[i] != labels[i]:\n",
    "                # Enhance the misclassified image\n",
    "                enhanced_image = enhance_image(images[i])\n",
    "                # Save the enhanced image and its label\n",
    "                misclassified_images.append((enhanced_image, labels[i]))\n",
    "\n",
    "# Predict again using the enhanced misclassified images\n",
    "correct = 0\n",
    "total = 0\n",
    "with torch.no_grad():\n",
    "    for data in misclassified_images:\n",
    "        image, label = data\n",
    "        image = image.to(device)\n",
    "        output = net(image.unsqueeze(0))\n",
    "        _, predicted = torch.max(output.data, 1)\n",
    "        total += 1\n",
    "        if predicted == label:\n",
    "            correct += 1\n",
    "\n",
    "print('Accuracy of the network on the enhanced misclassified images: %d %%' % (\n",
    "    100 * correct / total))"
   ]
  },
  {
   "cell_type": "code",
   "execution_count": 21,
   "metadata": {},
   "outputs": [],
   "source": [
    "torch.save(net.state_dict(), 'AlexNet.pt')"
   ]
  },
  {
   "cell_type": "code",
   "execution_count": 10,
   "metadata": {},
   "outputs": [],
   "source": [
    "import torchsummary"
   ]
  },
  {
   "cell_type": "code",
   "execution_count": 11,
   "metadata": {},
   "outputs": [
    {
     "name": "stdout",
     "output_type": "stream",
     "text": [
      "=================================================================\n",
      "Layer (type:depth-idx)                   Param #\n",
      "=================================================================\n",
      "├─Sequential: 1-1                        --\n",
      "|    └─Conv2d: 2-1                       23,296\n",
      "|    └─ReLU: 2-2                         --\n",
      "|    └─MaxPool2d: 2-3                    --\n",
      "|    └─Conv2d: 2-4                       307,392\n",
      "|    └─ReLU: 2-5                         --\n",
      "|    └─MaxPool2d: 2-6                    --\n",
      "|    └─Conv2d: 2-7                       663,936\n",
      "|    └─ReLU: 2-8                         --\n",
      "|    └─Conv2d: 2-9                       884,992\n",
      "|    └─ReLU: 2-10                        --\n",
      "|    └─Conv2d: 2-11                      590,080\n",
      "|    └─ReLU: 2-12                        --\n",
      "|    └─MaxPool2d: 2-13                   --\n",
      "├─AdaptiveAvgPool2d: 1-2                 --\n",
      "├─Sequential: 1-3                        --\n",
      "|    └─Dropout: 2-14                     --\n",
      "|    └─Linear: 2-15                      37,752,832\n",
      "|    └─ReLU: 2-16                        --\n",
      "|    └─Dropout: 2-17                     --\n",
      "|    └─Linear: 2-18                      16,781,312\n",
      "|    └─ReLU: 2-19                        --\n",
      "|    └─Linear: 2-20                      40,970\n",
      "=================================================================\n",
      "Total params: 57,044,810\n",
      "Trainable params: 57,044,810\n",
      "Non-trainable params: 0\n",
      "=================================================================\n"
     ]
    },
    {
     "data": {
      "text/plain": [
       "=================================================================\n",
       "Layer (type:depth-idx)                   Param #\n",
       "=================================================================\n",
       "├─Sequential: 1-1                        --\n",
       "|    └─Conv2d: 2-1                       23,296\n",
       "|    └─ReLU: 2-2                         --\n",
       "|    └─MaxPool2d: 2-3                    --\n",
       "|    └─Conv2d: 2-4                       307,392\n",
       "|    └─ReLU: 2-5                         --\n",
       "|    └─MaxPool2d: 2-6                    --\n",
       "|    └─Conv2d: 2-7                       663,936\n",
       "|    └─ReLU: 2-8                         --\n",
       "|    └─Conv2d: 2-9                       884,992\n",
       "|    └─ReLU: 2-10                        --\n",
       "|    └─Conv2d: 2-11                      590,080\n",
       "|    └─ReLU: 2-12                        --\n",
       "|    └─MaxPool2d: 2-13                   --\n",
       "├─AdaptiveAvgPool2d: 1-2                 --\n",
       "├─Sequential: 1-3                        --\n",
       "|    └─Dropout: 2-14                     --\n",
       "|    └─Linear: 2-15                      37,752,832\n",
       "|    └─ReLU: 2-16                        --\n",
       "|    └─Dropout: 2-17                     --\n",
       "|    └─Linear: 2-18                      16,781,312\n",
       "|    └─ReLU: 2-19                        --\n",
       "|    └─Linear: 2-20                      40,970\n",
       "=================================================================\n",
       "Total params: 57,044,810\n",
       "Trainable params: 57,044,810\n",
       "Non-trainable params: 0\n",
       "================================================================="
      ]
     },
     "execution_count": 11,
     "metadata": {},
     "output_type": "execute_result"
    }
   ],
   "source": [
    "torchsummary.summary(net, input_size=(3, 227, 227))"
   ]
  },
  {
   "cell_type": "code",
   "execution_count": null,
   "metadata": {},
   "outputs": [],
   "source": []
  }
 ],
 "metadata": {
  "kernelspec": {
   "display_name": "Python 3 (ipykernel)",
   "language": "python",
   "name": "python3"
  },
  "language_info": {
   "codemirror_mode": {
    "name": "ipython",
    "version": 3
   },
   "file_extension": ".py",
   "mimetype": "text/x-python",
   "name": "python",
   "nbconvert_exporter": "python",
   "pygments_lexer": "ipython3",
   "version": "3.9.5"
  },
  "toc": {
   "base_numbering": 1,
   "nav_menu": {},
   "number_sections": true,
   "sideBar": true,
   "skip_h1_title": false,
   "title_cell": "Table of Contents",
   "title_sidebar": "Contents",
   "toc_cell": false,
   "toc_position": {},
   "toc_section_display": true,
   "toc_window_display": false
  }
 },
 "nbformat": 4,
 "nbformat_minor": 1
}
